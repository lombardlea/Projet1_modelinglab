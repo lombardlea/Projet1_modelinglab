{
 "cells": [
  {
   "cell_type": "markdown",
   "id": "4bc0f4ac",
   "metadata": {},
   "source": [
    "Part A"
   ]
  },
  {
   "cell_type": "markdown",
   "id": "06db888c",
   "metadata": {},
   "source": [
    "1."
   ]
  },
  {
   "cell_type": "code",
   "execution_count": null,
   "id": "662e1b1e",
   "metadata": {
    "vscode": {
     "languageId": "plaintext"
    }
   },
   "outputs": [],
   "source": []
  },
  {
   "cell_type": "markdown",
   "id": "7ae6d62e",
   "metadata": {},
   "source": [
    "2."
   ]
  },
  {
   "cell_type": "code",
   "execution_count": null,
   "id": "9a984d1d",
   "metadata": {
    "vscode": {
     "languageId": "plaintext"
    }
   },
   "outputs": [],
   "source": []
  },
  {
   "cell_type": "markdown",
   "id": "96af77b7",
   "metadata": {},
   "source": [
    "3."
   ]
  },
  {
   "cell_type": "code",
   "execution_count": null,
   "id": "e94a7988",
   "metadata": {
    "vscode": {
     "languageId": "plaintext"
    }
   },
   "outputs": [],
   "source": []
  },
  {
   "cell_type": "markdown",
   "id": "3b7e6d48",
   "metadata": {},
   "source": [
    "4."
   ]
  },
  {
   "cell_type": "code",
   "execution_count": null,
   "id": "8d607720",
   "metadata": {
    "vscode": {
     "languageId": "plaintext"
    }
   },
   "outputs": [],
   "source": []
  },
  {
   "cell_type": "markdown",
   "id": "9d98ff4a",
   "metadata": {},
   "source": [
    "5."
   ]
  },
  {
   "cell_type": "code",
   "execution_count": null,
   "id": "b0a75cf0",
   "metadata": {
    "vscode": {
     "languageId": "plaintext"
    }
   },
   "outputs": [],
   "source": []
  },
  {
   "cell_type": "markdown",
   "id": "fb0ea686",
   "metadata": {},
   "source": [
    "Part B "
   ]
  },
  {
   "cell_type": "markdown",
   "id": "c53ca9ae",
   "metadata": {},
   "source": [
    "1."
   ]
  },
  {
   "cell_type": "code",
   "execution_count": null,
   "id": "5f1d1d55",
   "metadata": {},
   "outputs": [],
   "source": [
    "from sympy import Matrix, lcm\n",
    "from collections import defaultdict\n",
    "import re\n",
    "\n",
    "def parse_formula(formula):\n",
    "    parts = re.findall('([A-Z][a-z]?)([0-9]*)', formula)\n",
    "    counts = defaultdict(int)\n",
    "    for (element, count) in parts:\n",
    "        counts[element] += int(count) if count else 1\n",
    "    return counts\n",
    "\n",
    "def balance_reaction(reactants, products):\n",
    "    compounds = reactants + products\n",
    "    elements = sorted({el for compound in compounds for el in parse_formula(compound)})\n",
    "    \n",
    "    matrix = []\n",
    "    for el in elements:\n",
    "        row = []\n",
    "        for compound in reactants:\n",
    "            row.append(parse_formula(compound).get(el, 0))\n",
    "        for compound in products:\n",
    "            row.append(-parse_formula(compound).get(el, 0))\n",
    "        matrix.append(row)\n",
    "    \n",
    "    m = Matrix(matrix)\n",
    "    nullspace = m.nullspace()\n",
    "    if not nullspace:\n",
    "        raise ValueError(\"No solution found: reaction cannot be balanced.\")\n",
    "    \n",
    "    vec = nullspace[0]\n",
    "\n",
    "    lcm_denoms = lcm([val.q for val in vec])\n",
    "    coeffs = [int(val * lcm_denoms) for val in vec]\n",
    "    \n",
    "    if any(c < 0 for c in coeffs):\n",
    "        coeffs = [-c for c in coeffs]\n",
    "    \n",
    "    return coeffs\n",
    "\n",
    "# Testing the function\n",
    "def test_balance_reaction():\n",
    "\n",
    "    # Reaction 1: C6H12O6 + O2 -> CO2 + H2O\n",
    "    reactants = [\"C6H12O6\", \"O2\"]\n",
    "    products = [\"CO2\", \"H2O\"]\n",
    "    print(\"Reaction 1 coefficients:\", balance_reaction(reactants, products))\n",
    "\n",
    "    # Reaction 2: Fe + O2 -> Fe2O3\n",
    "    reactants = [\"Fe\", \"O2\"]\n",
    "    products = [\"Fe2O3\"]\n",
    "    print(\"Reaction 2 coefficients:\", balance_reaction(reactants, products))\n",
    "\n",
    "    # Reaction 3: C6H6 + O2 -> CO2 + H2O\n",
    "    reactants = [\"C6H6\", \"O2\"]\n",
    "    products = [\"CO2\", \"H2O\"]\n",
    "    print(\"Reaction 3 coefficients:\", balance_reaction(reactants, products))\n",
    "\n",
    "# Run tests\n",
    "test_balance_reaction()"
   ]
  },
  {
   "cell_type": "markdown",
   "id": "26dfc5ca",
   "metadata": {},
   "source": [
    "2."
   ]
  },
  {
   "cell_type": "code",
   "execution_count": null,
   "id": "4dd62226",
   "metadata": {
    "vscode": {
     "languageId": "plaintext"
    }
   },
   "outputs": [],
   "source": []
  },
  {
   "cell_type": "markdown",
   "id": "15b07c90",
   "metadata": {},
   "source": [
    "Part C:"
   ]
  },
  {
   "cell_type": "code",
   "execution_count": null,
   "id": "c79d9361",
   "metadata": {
    "vscode": {
     "languageId": "plaintext"
    }
   },
   "outputs": [],
   "source": [
    "1."
   ]
  },
  {
   "cell_type": "code",
   "execution_count": null,
   "id": "8e77e8cc",
   "metadata": {
    "vscode": {
     "languageId": "plaintext"
    }
   },
   "outputs": [],
   "source": []
  },
  {
   "cell_type": "markdown",
   "id": "be52d3e1",
   "metadata": {},
   "source": [
    "2."
   ]
  },
  {
   "cell_type": "code",
   "execution_count": null,
   "id": "cac5689a",
   "metadata": {
    "vscode": {
     "languageId": "plaintext"
    }
   },
   "outputs": [],
   "source": []
  }
 ],
 "metadata": {
  "language_info": {
   "name": "python"
  }
 },
 "nbformat": 4,
 "nbformat_minor": 5
}
