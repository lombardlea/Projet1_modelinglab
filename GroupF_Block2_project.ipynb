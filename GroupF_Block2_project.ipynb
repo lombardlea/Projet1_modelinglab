{
 "cells": [
  {
   "cell_type": "markdown",
   "id": "83d6c5b6-3502-4fad-8d9a-c6a11e05abd0",
   "metadata": {},
   "source": [
    "## Project Block 2 "
   ]
  },
  {
   "cell_type": "markdown",
   "id": "cc9adf83-6837-4487-8598-3db406dc1744",
   "metadata": {},
   "source": [
    "David Müller, Léa Lombard, Elisa Lemaire "
   ]
  },
  {
   "cell_type": "markdown",
   "id": "f5a1e6cf-ae84-4040-b55f-96d007f29ea7",
   "metadata": {},
   "source": [
    "### Isotherms "
   ]
  },
  {
   "cell_type": "code",
   "execution_count": null,
   "id": "50a1063d-7916-4fdf-976c-d722208fcc1c",
   "metadata": {},
   "outputs": [],
   "source": []
  },
  {
   "cell_type": "markdown",
   "id": "71881abc-1de0-46de-8c9a-56ea94f8dcde",
   "metadata": {},
   "source": [
    "### Rank of the structures "
   ]
  },
  {
   "cell_type": "code",
   "execution_count": null,
   "id": "55673c5c-dd13-44bf-bcfa-a5dc7250d35e",
   "metadata": {},
   "outputs": [],
   "source": []
  }
 ],
 "metadata": {
  "kernelspec": {
   "display_name": "Python 3 (ipykernel)",
   "language": "python",
   "name": "python3"
  },
  "language_info": {
   "codemirror_mode": {
    "name": "ipython",
    "version": 3
   },
   "file_extension": ".py",
   "mimetype": "text/x-python",
   "name": "python",
   "nbconvert_exporter": "python",
   "pygments_lexer": "ipython3",
   "version": "3.11.5"
  }
 },
 "nbformat": 4,
 "nbformat_minor": 5
}
