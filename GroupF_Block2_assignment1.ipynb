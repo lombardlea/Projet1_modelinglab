{
 "cells": [
  {
   "cell_type": "markdown",
   "id": "6d0a9639-94f6-4c03-b2b4-bdc25f7d3edb",
   "metadata": {},
   "source": [
    "#### Block 2:\n",
    "#### Assignment 1 : "
   ]
  },
  {
   "cell_type": "markdown",
   "id": "7540e268-77aa-4778-8c18-481ee8afa5e2",
   "metadata": {},
   "source": [
    "David Müller, Léa Lombard, Elisa Lemaire "
   ]
  },
  {
   "cell_type": "code",
   "execution_count": 1,
   "id": "9e86fb7d-8d35-4e4b-9974-959b2b4a7ac9",
   "metadata": {},
   "outputs": [],
   "source": [
    "# Import needed modules \n",
    "# numpy will be used to convert lists to arrays and to use log, exp and fitting functions\n",
    "import numpy as np \n",
    "# matplotlib will be used for plotting\n",
    "import matplotlib.pyplot as plt"
   ]
  },
  {
   "cell_type": "markdown",
   "id": "11afb739-6a97-41fe-818f-951d6af4f712",
   "metadata": {},
   "source": [
    "1. The basic three assumptions of Langmuir are:\n",
    "   1. "
   ]
  },
  {
   "cell_type": "markdown",
   "id": "b03f451c-dda4-4a2b-83bd-c337b728a9bd",
   "metadata": {},
   "source": [
    "#### After the researcher did the fitting, she obtained the following values:\n",
    "    qsat = 4.72 mmol/g\n",
    "    k(263) = 6.75e-06 1/Pa\n",
    "    k(303) = 1.48e-06 1/Pa\n",
    "    k(343) = 5.16e-07 1/Pa"
   ]
  },
  {
   "cell_type": "markdown",
   "id": "a4dcd9a0-3059-4d5b-8338-98965b16c38e",
   "metadata": {},
   "source": [
    "#### Use the Van't Hoff equation to obtain k0 and delta H"
   ]
  },
  {
   "cell_type": "code",
   "execution_count": 2,
   "id": "32df16ab-d2d6-4ef5-a5bc-7bd0cf92f80f",
   "metadata": {},
   "outputs": [],
   "source": [
    "# Group the temperatures and K values in arrays\n",
    "\n",
    "\n",
    "# We know that we need to plot lnk vs. 1/T\n",
    "\n",
    "\n",
    "# Plot of lnk vs. 1/T\n",
    "\n",
    "\n",
    "# Solve for the unknowns by linear fitting\n",
    "\n",
    "\n",
    "# Print the results"
   ]
  },
  {
   "cell_type": "markdown",
   "id": "e1a5fc4d-4033-4183-8b5c-3b6da7ad307f",
   "metadata": {},
   "source": [
    "#### Calculate Henry's coefficients for the different temperatures"
   ]
  },
  {
   "cell_type": "code",
   "execution_count": 3,
   "id": "e064b77c-3046-4fb2-8787-23b7b21c06cc",
   "metadata": {},
   "outputs": [],
   "source": [
    "# Calculating the Henry's coefficients\n",
    "\n",
    "\n",
    "# Remember the formula for Kh (mmol/(g.Pa))\n",
    "\n",
    "\n",
    "#print the results\n"
   ]
  },
  {
   "cell_type": "code",
   "execution_count": null,
   "id": "03a07ab9-c82f-4d2e-b2d6-0a7081c232ae",
   "metadata": {},
   "outputs": [],
   "source": []
  }
 ],
 "metadata": {
  "kernelspec": {
   "display_name": "Python 3 (ipykernel)",
   "language": "python",
   "name": "python3"
  },
  "language_info": {
   "codemirror_mode": {
    "name": "ipython",
    "version": 3
   },
   "file_extension": ".py",
   "mimetype": "text/x-python",
   "name": "python",
   "nbconvert_exporter": "python",
   "pygments_lexer": "ipython3",
   "version": "3.10.13"
  }
 },
 "nbformat": 4,
 "nbformat_minor": 5
}
