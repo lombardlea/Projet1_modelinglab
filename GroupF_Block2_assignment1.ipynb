{
 "cells": [
  {
   "cell_type": "markdown",
   "id": "6d0a9639-94f6-4c03-b2b4-bdc25f7d3edb",
   "metadata": {},
   "source": [
    "#### Block 2:\n",
    "#### Assignment 1 : "
   ]
  },
  {
   "cell_type": "markdown",
   "id": "7540e268-77aa-4778-8c18-481ee8afa5e2",
   "metadata": {},
   "source": [
    "David Müller, Léa Lombard, Elisa Lemaire "
   ]
  },
  {
   "cell_type": "code",
   "execution_count": null,
   "id": "9e86fb7d-8d35-4e4b-9974-959b2b4a7ac9",
   "metadata": {},
   "outputs": [],
   "source": [
    "# Import needed modules \n",
    "# numpy will be used to convert lists to arrays and to use log, exp and fitting functions\n",
    "import numpy as np \n",
    "# matplotlib will be used for plotting\n",
    "import matplotlib.pyplot as plt"
   ]
  },
  {
   "cell_type": "markdown",
   "id": "11afb739-6a97-41fe-818f-951d6af4f712",
   "metadata": {},
   "source": [
    "1. The basic three assumptions of Langmuir are as following:\n",
    "   1. the mono-layer coverage : each site can hold maximum one molecule \n",
    "   2. the equality of energy : all adsorption sites are identical and have the same energy of adsorption\n",
    "   3. no interaction between adsorbed molecules : the adsorption of one molecule does not affect the adsorption of an other on an adjacent site "
   ]
  },
  {
   "cell_type": "markdown",
   "id": "e938a7fa",
   "metadata": {},
   "source": [
    "2.\n",
    "   a. Since one has the following expression for the gas uptake:\n",
    "\n",
    "$$q = {q_{sat}k(T)P \\over 1 + k(T)P} $$\n",
    "\n",
    "Thus, at high pressure, one has :\n",
    "\n",
    "$$ \\lim_{P \\to \\infty}q = {q_{sat}k(T)P \\over 1 + k(T)P} = q_{sat}$$\n",
    "\n",
    "Since the dominator and the denominator tends towards infinity, one can use Bernoulli-L'Hopital theorem which leads to an expression in which one can cancel out the k(T) term leading to $q_{sat}$. "
   ]
  },
  {
   "cell_type": "markdown",
   "id": "0e2d0299",
   "metadata": {},
   "source": [
    "b. At low pressure, 1 + k(T)P -> 1 \n",
    "\n",
    "Therefore, one has: $$q≈q_{sat}k(T)P$$ \n",
    "\n",
    "Which is a linear function of pressure."
   ]
  },
  {
   "cell_type": "markdown",
   "id": "516f3daa",
   "metadata": {},
   "source": [
    "3. The previous linear equation corresponds to Henry’s Law. By identification, the henry coefficient H(T) is the linear coefficient: $H(T) = q_{sat}k(T)$, thus the henry’s coefficient temperature dependence is related to the Van’t Hoff equation: \n",
    "$$H(T) = q_{sat}*𝑘_0*exp^{−∆𝐻 \\over 𝑅𝑇}$$\n",
    "From this equation we can see that the Henry’s coefficient decreases exponentially with increasing temperature when ΔH<0 (exothermic)."
   ]
  },
  {
   "cell_type": "markdown",
   "id": "b03f451c-dda4-4a2b-83bd-c337b728a9bd",
   "metadata": {},
   "source": [
    "#### After the researcher did the fitting, she obtained the following values:\n",
    "    qsat = 4.72 mmol/g\n",
    "    k(263) = 6.75e-06 1/Pa\n",
    "    k(303) = 1.48e-06 1/Pa\n",
    "    k(343) = 5.16e-07 1/Pa"
   ]
  },
  {
   "cell_type": "markdown",
   "id": "a4dcd9a0-3059-4d5b-8338-98965b16c38e",
   "metadata": {},
   "source": [
    "#### Use the Van't Hoff equation to obtain k0 and delta H"
   ]
  },
  {
   "cell_type": "code",
   "execution_count": null,
   "id": "32df16ab-d2d6-4ef5-a5bc-7bd0cf92f80f",
   "metadata": {},
   "outputs": [],
   "source": [
    "# Group the temperatures and K values in arrays\n",
    "\n",
    "\n",
    "# We know that we need to plot lnk vs. 1/T\n",
    "\n",
    "\n",
    "# Plot of lnk vs. 1/T\n",
    "\n",
    "\n",
    "# Solve for the unknowns by linear fitting\n",
    "\n",
    "\n",
    "# Print the results"
   ]
  },
  {
   "cell_type": "markdown",
   "id": "e1a5fc4d-4033-4183-8b5c-3b6da7ad307f",
   "metadata": {},
   "source": [
    "#### Calculate Henry's coefficients for the different temperatures"
   ]
  },
  {
   "cell_type": "code",
   "execution_count": 3,
   "id": "e064b77c-3046-4fb2-8787-23b7b21c06cc",
   "metadata": {},
   "outputs": [],
   "source": [
    "# Calculating the Henry's coefficients\n",
    "\n",
    "\n",
    "# Remember the formula for Kh (mmol/(g.Pa))\n",
    "\n",
    "\n",
    "#print the results\n"
   ]
  },
  {
   "cell_type": "code",
   "execution_count": null,
   "id": "03a07ab9-c82f-4d2e-b2d6-0a7081c232ae",
   "metadata": {},
   "outputs": [],
   "source": []
  },
  {
   "cell_type": "markdown",
   "id": "e8b08bdb",
   "metadata": {},
   "source": [
    "## Part 2: Statistical Thermodynamics"
   ]
  },
  {
   "cell_type": "markdown",
   "id": "94336900",
   "metadata": {},
   "source": [
    "1. The Canonical Ensemble describes a system at constant particle number, volume, and temperature, where energy fluctuations occur. It is used for modeling adsorption when the number of adsorbed molecules is fixed while the system exchanges energy with a heat reservoir."
   ]
  },
  {
   "cell_type": "markdown",
   "id": "6ccab41e",
   "metadata": {},
   "source": [
    "2. In the Canonical Ensemble, the partition function collects all possible microstates at fixed N,V,T. \n",
    "\n",
    "The partition function $Q$ for the Canonical Ensemble is given by:\n",
    "\n",
    "\n",
    "$$Q(N,V,T) = \\sum_{i} e^{-\\frac{E_i}{k_B T}}$$\n",
    "\n",
    "\n",
    "where:\n",
    "- $N$ is the number of particles (fixed),\n",
    "- $V$ is the system volume (fixed),\n",
    "- $T$ is the absolute temperature (fixed),\n",
    "- $E_i$ is the energy of the $i$-th microstate,\n",
    "- $k_B$ is the Boltzmann constant."
   ]
  },
  {
   "cell_type": "markdown",
   "id": "102a31b1",
   "metadata": {},
   "source": [
    "3. The probability of a microstate $i$ in the Canonical Ensemble is:\n",
    "\n",
    "\n",
    "$$P_i = \\frac{e^{-E_i / k_B T}}{Q}$$\n",
    "\n",
    "\n",
    "where:\n",
    "- $E$ is the energy of the microstate,\n",
    "- $k_B$ is the Boltzmann constant,\n",
    "- $T$ is the absolute temperature,\n",
    "- $Q$ is the partition function."
   ]
  }
 ],
 "metadata": {
  "kernelspec": {
   "display_name": "Python 3 (ipykernel)",
   "language": "python",
   "name": "python3"
  },
  "language_info": {
   "codemirror_mode": {
    "name": "ipython",
    "version": 3
   },
   "file_extension": ".py",
   "mimetype": "text/x-python",
   "name": "python",
   "nbconvert_exporter": "python",
   "pygments_lexer": "ipython3",
   "version": "3.10.13"
  }
 },
 "nbformat": 4,
 "nbformat_minor": 5
}
