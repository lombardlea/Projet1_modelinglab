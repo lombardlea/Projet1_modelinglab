{
 "cells": [
  {
   "cell_type": "markdown",
   "id": "e8d13e71-5b2d-4dd4-9d7d-bd9944140f5f",
   "metadata": {},
   "source": [
    "Computational Carpentry Project"
   ]
  },
  {
   "cell_type": "markdown",
   "id": "fb0bf3ac-b03e-49f7-b429-bc8d31883fb9",
   "metadata": {},
   "source": [
    "David Müller, Léa Lombard, Elisa Lemaire "
   ]
  },
  {
   "cell_type": "markdown",
   "id": "bbcfbf1a-3b4f-4950-be80-efa982b56ab6",
   "metadata": {},
   "source": [
    "Part A - Data structures and functions "
   ]
  },
  {
   "cell_type": "markdown",
   "id": "d05ad251-2ace-423f-babf-36dbe816b9a7",
   "metadata": {},
   "source": [
    "1. "
   ]
  },
  {
   "cell_type": "code",
   "execution_count": 8,
   "id": "322fc657-7ec8-42ef-b488-134ae4046b36",
   "metadata": {},
   "outputs": [],
   "source": [
    "import pandas as pd\n",
    "\n",
    "df = pd.read_csv(\"/Users/elisalemaire/Desktop/cours/semestre 6/nummeth/periodic_table.csv\") #the file's pathway"
   ]
  },
  {
   "cell_type": "markdown",
   "id": "ffe80741-3f1f-4b25-bc0a-d5a84383e94b",
   "metadata": {},
   "source": [
    "The pathway used is the one of the periodic table saved on our computer "
   ]
  },
  {
   "cell_type": "markdown",
   "id": "177a2eb0-113c-49a8-ad70-71dc2e7b5c3d",
   "metadata": {},
   "source": [
    "test :"
   ]
  },
  {
   "cell_type": "code",
   "execution_count": 34,
   "id": "ede6e8b0-101f-400b-93c6-793e2e0a5444",
   "metadata": {},
   "outputs": [
    {
     "data": {
      "text/html": [
       "<div>\n",
       "<style scoped>\n",
       "    .dataframe tbody tr th:only-of-type {\n",
       "        vertical-align: middle;\n",
       "    }\n",
       "\n",
       "    .dataframe tbody tr th {\n",
       "        vertical-align: top;\n",
       "    }\n",
       "\n",
       "    .dataframe thead th {\n",
       "        text-align: right;\n",
       "    }\n",
       "</style>\n",
       "<table border=\"1\" class=\"dataframe\">\n",
       "  <thead>\n",
       "    <tr style=\"text-align: right;\">\n",
       "      <th></th>\n",
       "      <th>AtomicNumber</th>\n",
       "      <th>Symbol</th>\n",
       "      <th>Name</th>\n",
       "      <th>AtomicMass</th>\n",
       "      <th>CPKHexColor</th>\n",
       "      <th>ElectronConfiguration</th>\n",
       "      <th>Electronegativity</th>\n",
       "      <th>AtomicRadius</th>\n",
       "      <th>IonizationEnergy</th>\n",
       "      <th>ElectronAffinity</th>\n",
       "      <th>OxidationStates</th>\n",
       "      <th>StandardState</th>\n",
       "      <th>MeltingPoint</th>\n",
       "      <th>BoilingPoint</th>\n",
       "      <th>Density</th>\n",
       "      <th>GroupBlock</th>\n",
       "      <th>YearDiscovered</th>\n",
       "    </tr>\n",
       "  </thead>\n",
       "  <tbody>\n",
       "    <tr>\n",
       "      <th>0</th>\n",
       "      <td>1</td>\n",
       "      <td>H</td>\n",
       "      <td>Hydrogen</td>\n",
       "      <td>1.008000</td>\n",
       "      <td>FFFFFF</td>\n",
       "      <td>1s1</td>\n",
       "      <td>2.20</td>\n",
       "      <td>120.0</td>\n",
       "      <td>13.598</td>\n",
       "      <td>0.754</td>\n",
       "      <td>+1, -1</td>\n",
       "      <td>Gas</td>\n",
       "      <td>13.81</td>\n",
       "      <td>20.28</td>\n",
       "      <td>0.000090</td>\n",
       "      <td>Nonmetal</td>\n",
       "      <td>1766</td>\n",
       "    </tr>\n",
       "    <tr>\n",
       "      <th>1</th>\n",
       "      <td>2</td>\n",
       "      <td>He</td>\n",
       "      <td>Helium</td>\n",
       "      <td>4.002600</td>\n",
       "      <td>D9FFFF</td>\n",
       "      <td>1s2</td>\n",
       "      <td>NaN</td>\n",
       "      <td>140.0</td>\n",
       "      <td>24.587</td>\n",
       "      <td>NaN</td>\n",
       "      <td>0</td>\n",
       "      <td>Gas</td>\n",
       "      <td>0.95</td>\n",
       "      <td>4.22</td>\n",
       "      <td>0.000179</td>\n",
       "      <td>Noble gas</td>\n",
       "      <td>1868</td>\n",
       "    </tr>\n",
       "    <tr>\n",
       "      <th>2</th>\n",
       "      <td>3</td>\n",
       "      <td>Li</td>\n",
       "      <td>Lithium</td>\n",
       "      <td>7.000000</td>\n",
       "      <td>CC80FF</td>\n",
       "      <td>[He]2s1</td>\n",
       "      <td>0.98</td>\n",
       "      <td>182.0</td>\n",
       "      <td>5.392</td>\n",
       "      <td>0.618</td>\n",
       "      <td>+1</td>\n",
       "      <td>Solid</td>\n",
       "      <td>453.65</td>\n",
       "      <td>1615.00</td>\n",
       "      <td>0.534000</td>\n",
       "      <td>Alkali metal</td>\n",
       "      <td>1817</td>\n",
       "    </tr>\n",
       "    <tr>\n",
       "      <th>3</th>\n",
       "      <td>4</td>\n",
       "      <td>Be</td>\n",
       "      <td>Beryllium</td>\n",
       "      <td>9.012183</td>\n",
       "      <td>C2FF00</td>\n",
       "      <td>[He]2s2</td>\n",
       "      <td>1.57</td>\n",
       "      <td>153.0</td>\n",
       "      <td>9.323</td>\n",
       "      <td>NaN</td>\n",
       "      <td>+2</td>\n",
       "      <td>Solid</td>\n",
       "      <td>1560.00</td>\n",
       "      <td>2744.00</td>\n",
       "      <td>1.850000</td>\n",
       "      <td>Alkaline earth metal</td>\n",
       "      <td>1798</td>\n",
       "    </tr>\n",
       "    <tr>\n",
       "      <th>4</th>\n",
       "      <td>5</td>\n",
       "      <td>B</td>\n",
       "      <td>Boron</td>\n",
       "      <td>10.810000</td>\n",
       "      <td>FFB5B5</td>\n",
       "      <td>[He]2s2 2p1</td>\n",
       "      <td>2.04</td>\n",
       "      <td>192.0</td>\n",
       "      <td>8.298</td>\n",
       "      <td>0.277</td>\n",
       "      <td>+3</td>\n",
       "      <td>Solid</td>\n",
       "      <td>2348.00</td>\n",
       "      <td>4273.00</td>\n",
       "      <td>2.370000</td>\n",
       "      <td>Metalloid</td>\n",
       "      <td>1808</td>\n",
       "    </tr>\n",
       "  </tbody>\n",
       "</table>\n",
       "</div>"
      ],
      "text/plain": [
       "   AtomicNumber Symbol       Name  AtomicMass CPKHexColor  \\\n",
       "0             1      H   Hydrogen    1.008000      FFFFFF   \n",
       "1             2     He     Helium    4.002600      D9FFFF   \n",
       "2             3     Li    Lithium    7.000000      CC80FF   \n",
       "3             4     Be  Beryllium    9.012183      C2FF00   \n",
       "4             5      B      Boron   10.810000      FFB5B5   \n",
       "\n",
       "  ElectronConfiguration  Electronegativity  AtomicRadius  IonizationEnergy  \\\n",
       "0                   1s1               2.20         120.0            13.598   \n",
       "1                   1s2                NaN         140.0            24.587   \n",
       "2               [He]2s1               0.98         182.0             5.392   \n",
       "3               [He]2s2               1.57         153.0             9.323   \n",
       "4           [He]2s2 2p1               2.04         192.0             8.298   \n",
       "\n",
       "   ElectronAffinity OxidationStates StandardState  MeltingPoint  BoilingPoint  \\\n",
       "0             0.754          +1, -1           Gas         13.81         20.28   \n",
       "1               NaN               0           Gas          0.95          4.22   \n",
       "2             0.618              +1         Solid        453.65       1615.00   \n",
       "3               NaN              +2         Solid       1560.00       2744.00   \n",
       "4             0.277              +3         Solid       2348.00       4273.00   \n",
       "\n",
       "    Density            GroupBlock YearDiscovered  \n",
       "0  0.000090              Nonmetal           1766  \n",
       "1  0.000179             Noble gas           1868  \n",
       "2  0.534000          Alkali metal           1817  \n",
       "3  1.850000  Alkaline earth metal           1798  \n",
       "4  2.370000             Metalloid           1808  "
      ]
     },
     "execution_count": 34,
     "metadata": {},
     "output_type": "execute_result"
    }
   ],
   "source": [
    "df.head()   #first 5 rows"
   ]
  },
  {
   "cell_type": "markdown",
   "id": "d56292d1-cb57-47f1-9520-07ae8c98d028",
   "metadata": {},
   "source": [
    "By printing the first rows from the periodic table, it allows to test the code used and to prevent having errors. "
   ]
  },
  {
   "cell_type": "markdown",
   "id": "ac3dd23c-9cee-4e85-8995-886aa6de9037",
   "metadata": {},
   "source": [
    "2. Python dictionary where the keys are elements symbol and the values are atomic masses :"
   ]
  },
  {
   "cell_type": "code",
   "execution_count": 35,
   "id": "6655476b-61d3-4dd1-9cd7-c019f8b3896e",
   "metadata": {},
   "outputs": [],
   "source": [
    "symbol_mass_dict = dict(zip(df[\"Symbol\"], df[\"AtomicMass\"]))"
   ]
  },
  {
   "cell_type": "markdown",
   "id": "cb6ec396-b93b-4262-adcf-eb25b614854b",
   "metadata": {},
   "source": [
    "test : "
   ]
  },
  {
   "cell_type": "code",
   "execution_count": 36,
   "id": "e7e305db-a621-4211-b129-d573fc541350",
   "metadata": {},
   "outputs": [
    {
     "name": "stdout",
     "output_type": "stream",
     "text": [
      "{'H': 1.008, 'He': 4.0026, 'Li': 7.0, 'Be': 9.012183, 'B': 10.81}\n"
     ]
    }
   ],
   "source": [
    "print(dict(list(symbol_mass_dict.items())[:5])) #first 5 entries"
   ]
  },
  {
   "cell_type": "markdown",
   "id": "cdc84fe6-6f1e-4f13-b357-71e08ff93b91",
   "metadata": {},
   "source": [
    "3. Function that returns the molecular mass : "
   ]
  },
  {
   "cell_type": "code",
   "execution_count": 37,
   "id": "e554e11d-87d2-41fa-9063-813ab5212165",
   "metadata": {},
   "outputs": [],
   "source": [
    "import re\n",
    "\n",
    "\n",
    "def molecular_mass(formula: str) -> float:\n",
    "    #calculate the molecular mass \n",
    "    #match element symbols with numbers (e.g., H2, O, C6)\n",
    "    pattern = r\"([A-Z][a-z]?)(\\d*)\"\n",
    "    tokens = re.findall(pattern, formula)\n",
    "\n",
    "    total_mass = 0.0\n",
    "    for (element, count) in tokens:\n",
    "        count = int(count) if count else 1  # default to 1 if no number\n",
    "        if element not in symbol_mass_dict:\n",
    "            raise ValueError(f\"Element {element} not found in periodic table.\")\n",
    "        total_mass += symbol_mass_dict[element] * count\n",
    "\n",
    "    return total_mass"
   ]
  },
  {
   "cell_type": "markdown",
   "id": "b3c9b8f9-952d-475f-886e-aa8e70a2a6df",
   "metadata": {},
   "source": [
    "To ask the user for a chemical formula, the following code is used :"
   ]
  },
  {
   "cell_type": "code",
   "execution_count": 39,
   "id": "9120eb2d-99b8-4a9d-aec0-0003c88e6d71",
   "metadata": {},
   "outputs": [
    {
     "name": "stdout",
     "output_type": "stream",
     "text": [
      "Enter a chemical formula (e.g. H2O, C6H12O6, NaCl):  Ca(OH)2\n"
     ]
    },
    {
     "name": "stdout",
     "output_type": "stream",
     "text": [
      "Molecular mass of Ca(OH)2 = 57.087\n"
     ]
    }
   ],
   "source": [
    "def ask_user_for_formula():\n",
    "    formula = input(\"Enter a chemical formula (e.g. H2O, C6H12O6, NaCl): \").strip()\n",
    "    try:\n",
    "        mass = molecular_mass(formula)\n",
    "        print(f\"Molecular mass of {formula} = {mass:.3f}\")\n",
    "    except ValueError as e:\n",
    "        print(\"Error:\", e)\n",
    "\n",
    "ask_user_for_formula()\n"
   ]
  },
  {
   "cell_type": "markdown",
   "id": "637096fc-d136-4950-a1b0-5fcfe4910d20",
   "metadata": {},
   "source": [
    "This molecular mass calculator does not handle the parentheses, as shown with Ca(OH)2 above. "
   ]
  },
  {
   "cell_type": "markdown",
   "id": "7473555b-2877-4813-aaa0-6dd629f05112",
   "metadata": {},
   "source": [
    "4. Here is an extended molecular mass calculator : "
   ]
  },
  {
   "cell_type": "code",
   "execution_count": 41,
   "id": "90f2f902-9a50-47ba-91e6-1d2f2781ad71",
   "metadata": {},
   "outputs": [
    {
     "name": "stdout",
     "output_type": "stream",
     "text": [
      "Enter a chemical formula (e.g. H2O, C6H12O6, NaCl):  Ca(OH)2\n"
     ]
    },
    {
     "name": "stdout",
     "output_type": "stream",
     "text": [
      "Molecular mass of Ca(OH)2 = 74.094\n"
     ]
    }
   ],
   "source": [
    "def molecular_mass(formula: str) -> float:\n",
    "   \n",
    "    def parse(s, i=0):\n",
    "        total = 0.0\n",
    "        element = \"\"\n",
    "        count = \"\"\n",
    "\n",
    "        while i < len(s):\n",
    "            ch = s[i]\n",
    "\n",
    "            if ch == \"(\":\n",
    "                \n",
    "                if element:\n",
    "                    cnt = int(count) if count else 1\n",
    "                    if element not in symbol_mass_dict:\n",
    "                        raise ValueError(f\"Unknown element: {element}\")\n",
    "                    total += symbol_mass_dict[element] * cnt\n",
    "                    element = \"\"\n",
    "                    count = \"\"\n",
    "                \n",
    "                group_mass, i = parse(s, i+1)\n",
    "               \n",
    "                mult = \"\"\n",
    "                while i < len(s) and s[i].isdigit():\n",
    "                    mult += s[i]; i += 1\n",
    "                mult = int(mult) if mult else 1\n",
    "                total += group_mass * mult\n",
    "\n",
    "            elif ch == \")\":\n",
    "               \n",
    "                if element:\n",
    "                    cnt = int(count) if count else 1\n",
    "                    if element not in symbol_mass_dict:\n",
    "                        raise ValueError(f\"Unknown element: {element}\")\n",
    "                    total += symbol_mass_dict[element] * cnt\n",
    "                    element = \"\"\n",
    "                    count = \"\"\n",
    "                return total, i+1\n",
    "\n",
    "            elif ch.isupper():\n",
    "                # New element begins; flush previous one\n",
    "                if element:\n",
    "                    cnt = int(count) if count else 1\n",
    "                    if element not in symbol_mass_dict:\n",
    "                        raise ValueError(f\"Unknown element: {element}\")\n",
    "                    total += symbol_mass_dict[element] * cnt\n",
    "                element = ch\n",
    "                count = \"\"\n",
    "                i += 1\n",
    "\n",
    "            elif ch.islower():\n",
    "                element += ch\n",
    "                i += 1\n",
    "\n",
    "            elif ch.isdigit():\n",
    "                count += ch\n",
    "                i += 1\n",
    "\n",
    "            else:\n",
    "                # ignore unexpected characters (or raise if you prefer)\n",
    "                i += 1\n",
    "\n",
    "        if element:\n",
    "            cnt = int(count) if count else 1\n",
    "            if element not in symbol_mass_dict:\n",
    "                raise ValueError(f\"Unknown element: {element}\")\n",
    "            total += symbol_mass_dict[element] * cnt\n",
    "\n",
    "        return total, i\n",
    "\n",
    "    mass, _ = parse(formula)\n",
    "    return mass\n",
    "\n",
    "ask_user_for_formula()"
   ]
  },
  {
   "cell_type": "markdown",
   "id": "b01a8a91-9273-4db6-86cb-ce9f45945b6f",
   "metadata": {},
   "source": [
    "5. Here is an extended mass calculator that handles coordinated water : "
   ]
  },
  {
   "cell_type": "code",
   "execution_count": 42,
   "id": "e5ef99e3-c8af-4413-9be7-60d8e960fe56",
   "metadata": {},
   "outputs": [
    {
     "name": "stdout",
     "output_type": "stream",
     "text": [
      "Enter a chemical formula (e.g. H2O, C6H12O6, NaCl):  C6H12O6\n"
     ]
    },
    {
     "name": "stdout",
     "output_type": "stream",
     "text": [
      "Molecular mass of C6H12O6 = 180.156\n"
     ]
    }
   ],
   "source": [
    "def molecular_mass(formula: str) -> float:\n",
    "   \n",
    "    def parse(s, i=0):\n",
    "        total = 0.0\n",
    "        element = \"\"\n",
    "        count = \"\"\n",
    "\n",
    "        while i < len(s):\n",
    "            ch = s[i]\n",
    "\n",
    "            if ch == \"(\":\n",
    "                # Flush pending element\n",
    "                if element:\n",
    "                    cnt = int(count) if count else 1\n",
    "                    if element not in symbol_mass_dict:\n",
    "                        raise ValueError(f\"Unknown element: {element}\")\n",
    "                    total += symbol_mass_dict[element] * cnt\n",
    "                    element, count = \"\", \"\"\n",
    "                # Recurse into parentheses\n",
    "                group_mass, i = parse(s, i+1)\n",
    "                # Multiplier after parentheses\n",
    "                mult = \"\"\n",
    "                while i < len(s) and s[i].isdigit():\n",
    "                    mult += s[i]; i += 1\n",
    "                mult = int(mult) if mult else 1\n",
    "                total += group_mass * mult\n",
    "\n",
    "            elif ch == \")\":\n",
    "                # Flush pending element before closing\n",
    "                if element:\n",
    "                    cnt = int(count) if count else 1\n",
    "                    if element not in symbol_mass_dict:\n",
    "                        raise ValueError(f\"Unknown element: {element}\")\n",
    "                    total += symbol_mass_dict[element] * cnt\n",
    "                    element, count = \"\", \"\"\n",
    "                return total, i+1\n",
    "\n",
    "            elif ch.isupper():\n",
    "                # Flush previous element\n",
    "                if element:\n",
    "                    cnt = int(count) if count else 1\n",
    "                    if element not in symbol_mass_dict:\n",
    "                        raise ValueError(f\"Unknown element: {element}\")\n",
    "                    total += symbol_mass_dict[element] * cnt\n",
    "                element, count = ch, \"\"\n",
    "                i += 1\n",
    "\n",
    "            elif ch.islower():\n",
    "                element += ch\n",
    "                i += 1\n",
    "\n",
    "            elif ch.isdigit():\n",
    "                count += ch\n",
    "                i += 1\n",
    "\n",
    "            else:\n",
    "                i += 1\n",
    "\n",
    "        # End of string: flush last element\n",
    "        if element:\n",
    "            cnt = int(count) if count else 1\n",
    "            if element not in symbol_mass_dict:\n",
    "                raise ValueError(f\"Unknown element: {element}\")\n",
    "            total += symbol_mass_dict[element] * cnt\n",
    "\n",
    "        return total, i\n",
    "\n",
    "    # --- Handle hydrates (split by dot or middle dot) ---\n",
    "    parts = re.split(r\"[·.]\", formula)  # split on '.' or '·'\n",
    "    total_mass = 0.0\n",
    "    for part in parts:\n",
    "        part = part.strip()\n",
    "        # Handle hydration numbers (e.g., \"5H2O\")\n",
    "        match = re.match(r\"^(\\d+)([A-Za-z(].*)$\", part)\n",
    "        if match:\n",
    "            mult = int(match.group(1))\n",
    "            sub_formula = match.group(2)\n",
    "            mass, _ = parse(sub_formula)\n",
    "            total_mass += mult * mass\n",
    "        else:\n",
    "            mass, _ = parse(part)\n",
    "            total_mass += mass\n",
    "\n",
    "    return total_mass\n",
    "\n",
    "ask_user_for_formula()"
   ]
  },
  {
   "cell_type": "markdown",
   "id": "5794334a-65ad-42d1-82b1-51bcf1c96add",
   "metadata": {},
   "source": [
    "Part B - Stoichiometry and reaction balancing "
   ]
  },
  {
   "cell_type": "markdown",
   "id": "48ddfc3a-a8f5-4a8f-9c0d-7eb2ddcf61b0",
   "metadata": {},
   "source": [
    "1. Reaction balancer function : "
   ]
  },
  {
   "cell_type": "code",
   "execution_count": 48,
   "id": "e07d94d5-a3f8-45da-80e2-212b0ea5adca",
   "metadata": {},
   "outputs": [
    {
     "name": "stdout",
     "output_type": "stream",
     "text": [
      "Reaction 1 coefficients: [1, 6, 6, 6]\n",
      "Reaction 2 coefficients: [4, 3, 2]\n",
      "Reaction 3 coefficients: [2, 15, 12, 6]\n"
     ]
    }
   ],
   "source": [
    "from sympy import Matrix, lcm\n",
    "from collections import defaultdict\n",
    "import re\n",
    "\n",
    "def parse_formula(formula):\n",
    "    parts = re.findall('([A-Z][a-z]?)([0-9]*)', formula)\n",
    "    counts = defaultdict(int)\n",
    "    for (element, count) in parts:\n",
    "        counts[element] += int(count) if count else 1\n",
    "    return counts\n",
    "\n",
    "def balance_reaction(reactants, products):\n",
    "    compounds = reactants + products\n",
    "    elements = sorted({el for compound in compounds for el in parse_formula(compound)})\n",
    "    \n",
    "    matrix = []\n",
    "    for el in elements:\n",
    "        row = []\n",
    "        for compound in reactants:\n",
    "            row.append(parse_formula(compound).get(el, 0))\n",
    "        for compound in products:\n",
    "            row.append(-parse_formula(compound).get(el, 0))\n",
    "        matrix.append(row)\n",
    "    \n",
    "    m = Matrix(matrix)\n",
    "    nullspace = m.nullspace()\n",
    "    if not nullspace:\n",
    "        raise ValueError(\"No solution found: reaction cannot be balanced.\")\n",
    "    \n",
    "    vec = nullspace[0]\n",
    "\n",
    "    lcm_denoms = lcm([val.q for val in vec])\n",
    "    coeffs = [int(val * lcm_denoms) for val in vec]\n",
    "    \n",
    "    if any(c < 0 for c in coeffs):\n",
    "        coeffs = [-c for c in coeffs]\n",
    "    \n",
    "    return coeffs\n",
    "\n",
    "# Testing the function\n",
    "def test_balance_reaction():\n",
    "\n",
    "    # Reaction 1: C6H12O6 + O2 -> CO2 + H2O\n",
    "    reactants = [\"C6H12O6\", \"O2\"]\n",
    "    products = [\"CO2\", \"H2O\"]\n",
    "    print(\"Reaction 1 coefficients:\", balance_reaction(reactants, products))\n",
    "\n",
    "    # Reaction 2: Fe + O2 -> Fe2O3\n",
    "    reactants = [\"Fe\", \"O2\"]\n",
    "    products = [\"Fe2O3\"]\n",
    "    print(\"Reaction 2 coefficients:\", balance_reaction(reactants, products))\n",
    "\n",
    "    # Reaction 3: C6H6 + O2 -> CO2 + H2O\n",
    "    reactants = [\"C6H6\", \"O2\"]\n",
    "    products = [\"CO2\", \"H2O\"]\n",
    "    print(\"Reaction 3 coefficients:\", balance_reaction(reactants, products))\n",
    "\n",
    "# Run tests\n",
    "test_balance_reaction()\n",
    "     \n"
   ]
  },
  {
   "cell_type": "markdown",
   "id": "dbd0cd03-1e10-4c7f-953e-15b48426126a",
   "metadata": {},
   "source": [
    "2. Mass conservation check : "
   ]
  },
  {
   "cell_type": "code",
   "execution_count": 44,
   "id": "8f995316-d5bd-4045-b4ae-fd0096e5a3b3",
   "metadata": {},
   "outputs": [
    {
     "name": "stdout",
     "output_type": "stream",
     "text": [
      "True\n",
      "True\n",
      "True\n"
     ]
    }
   ],
   "source": [
    "import re\n",
    "\n",
    "# Molecular mass calculator\n",
    "atomic_masses = {\n",
    "    \"H\": 1.008, \"He\": 4.0026, \"C\": 12.011, \"N\": 14.007, \"O\": 15.999,\n",
    "    \"Na\": 22.99, \"Mg\": 24.305, \"Al\": 26.982, \"Si\": 28.085, \"P\": 30.974,\n",
    "    \"S\": 32.06, \"Cl\": 35.45, \"K\": 39.098, \"Ca\": 40.078, \"Fe\": 55.845,\n",
    "    \"Cu\": 63.546, \"Zn\": 65.38\n",
    "}\n",
    "\n",
    "def molecular_mass(formula: str) -> float:\n",
    "    pattern = r\"([A-Z][a-z]?)(\\d*)\"\n",
    "    tokens = re.findall(pattern, formula)\n",
    "    total = 0.0\n",
    "    for (element, count) in tokens:\n",
    "        count = int(count) if count else 1\n",
    "        if element not in atomic_masses:\n",
    "            raise ValueError(f\"Unknown element: {element}\")\n",
    "        total += atomic_masses[element] * count\n",
    "    return total\n",
    "\n",
    "# Check mass balance\n",
    "def check_mass_balance(reactants, products, coeffs, tol=1e-6):\n",
    "   \n",
    "    n_react = len(reactants)\n",
    "    reactant_coeffs = coeffs[:n_react]\n",
    "    product_coeffs = coeffs[n_react:]\n",
    "\n",
    "    reactant_mass = sum(c * molecular_mass(f) for c, f in zip(reactant_coeffs, reactants))\n",
    "    product_mass = sum(c * molecular_mass(f) for c, f in zip(product_coeffs, products))\n",
    "\n",
    "    return abs(reactant_mass - product_mass) < tol\n",
    "\n",
    "# Example 1: 2H2 + O2 -> 2H2O\n",
    "print(check_mass_balance([\"H2\", \"O2\"], [\"H2O\"], [2, 1, 2]))\n",
    "# → True\n",
    "\n",
    "# Example 2: C3H8 + 5O2 -> 3CO2 + 4H2O\n",
    "print(check_mass_balance([\"C3H8\", \"O2\"], [\"CO2\", \"H2O\"], [1, 5, 3, 4]))\n",
    "# → True\n",
    "\n",
    "# Example 3: 4Fe + 3O2 -> 2Fe2O3\n",
    "print(check_mass_balance([\"Fe\", \"O2\"], [\"Fe2O3\"], [4, 3, 2]))\n",
    "# → True\n"
   ]
  },
  {
   "cell_type": "markdown",
   "id": "c5eca5e3-a1c4-4ce2-b2bc-a17bdaa0f168",
   "metadata": {},
   "source": [
    "One needs to enter, in the cell bellow, the reactants and the products as well as the stoichiometric number found with the reaction balancer function from Part B- 1. to compute the molecular mass calculator"
   ]
  },
  {
   "cell_type": "code",
   "execution_count": 28,
   "id": "d17c895c-b2f5-4e3d-9a48-fe80b3524805",
   "metadata": {},
   "outputs": [
    {
     "name": "stdout",
     "output_type": "stream",
     "text": [
      "True\n"
     ]
    }
   ],
   "source": [
    "print(check_mass_balance([\"C3H8\", \"O2\"], [\"CO2\", \"H2O\"], [1, 5, 3, 4]))"
   ]
  },
  {
   "cell_type": "markdown",
   "id": "1a21eb5b-55c6-4a89-98cd-94703f2e7e8e",
   "metadata": {},
   "source": [
    "Verification that the total mass is conserved :"
   ]
  },
  {
   "cell_type": "code",
   "execution_count": 45,
   "id": "e1e1f82b-ea39-4ba1-82c2-4bd20b4d4e81",
   "metadata": {},
   "outputs": [
    {
     "name": "stdout",
     "output_type": "stream",
     "text": [
      "The reaction is balanced by mass\n",
      "The reaction is balanced by mass\n",
      "The reaction is balanced by mass\n"
     ]
    },
    {
     "data": {
      "text/plain": [
       "True"
      ]
     },
     "execution_count": 45,
     "metadata": {},
     "output_type": "execute_result"
    }
   ],
   "source": [
    "def verify_reaction(reactants, products, coeffs):\n",
    "    balanced = check_mass_balance(reactants, products, coeffs)\n",
    "    if balanced:\n",
    "        print(\"The reaction is balanced by mass\")\n",
    "    else:\n",
    "        print(\"The reaction is NOT balanced by mass\")\n",
    "    return balanced\n",
    "\n",
    "# ---- Examples ----\n",
    "# 1) 2H2 + O2 -> 2H2O\n",
    "verify_reaction([\"H2\", \"O2\"], [\"H2O\"], [2, 1, 2])\n",
    "\n",
    "# 2) C3H8 + 5O2 -> 3CO2 + 4H2O\n",
    "verify_reaction([\"C3H8\", \"O2\"], [\"CO2\", \"H2O\"], [1, 5, 3, 4])\n",
    "\n",
    "# 3) 4Fe + 3O2 -> 2Fe2O3\n",
    "verify_reaction([\"Fe\", \"O2\"], [\"Fe2O3\"], [4, 3, 2])\n"
   ]
  },
  {
   "cell_type": "markdown",
   "id": "fd71c006",
   "metadata": {},
   "source": [
    "Part C - Simulation/ Modeling "
   ]
  },
  {
   "cell_type": "code",
   "execution_count": 2,
   "id": "a960d9e9",
   "metadata": {},
   "outputs": [
    {
     "name": "stdout",
     "output_type": "stream",
     "text": [
      "Found estimated π = 3.143880, error compared to real π value = 0.002287\n",
      "\n"
     ]
    },
    {
     "data": {
      "image/png": "[encoded data removed]",
      "text/plain": [
       "<Figure size 800x500 with 1 Axes>"
      ]
     },
     "metadata": {},
     "output_type": "display_data"
    },
    {
     "name": "stdout",
     "output_type": "stream",
     "text": [
      "The reaction probability for normal distribution is 0.3674 ± 0.0034 with a 95% confidence interval (np.float64(0.3607184804528311), np.float64(0.3740815195471689)) with 7348 reactive collisions out of 20000 total collisions. The distribution parameters were {'loc': 1.0, 'scale': 0.6}\n",
      "\n",
      "The reaction probability for uniform distribution is 0.3963 ± 0.0035 with a 95% confidence interval (np.float64(0.3895210302239352), np.float64(0.4030789697760648)) with 7926 reactive collisions out of 20000 total collisions. The distribution parameters were {'low': 0.0, 'high': 2.0}\n",
      "\n",
      "The reaction probability for exponential distribution is 0.3009 ± 0.0032 with a 95% confidence interval (np.float64(0.29459314409099907), np.float64(0.3073068559090009)) with 6019 reactive collisions out of 20000 total collisions. The distribution parameters were {'scale': 1.0}\n"
     ]
    },
    {
     "data": {
      "image/png": "[encoded data removed]",
      "text/plain": [
       "<Figure size 800x500 with 1 Axes>"
      ]
     },
     "metadata": {},
     "output_type": "display_data"
    },
    {
     "data": {
      "image/png": "[encoded data removed]",
      "text/plain": [
       "<Figure size 800x500 with 1 Axes>"
      ]
     },
     "metadata": {},
     "output_type": "display_data"
    },
    {
     "data": {
      "image/png": "[encoded data removed]",
      "text/plain": [
       "<Figure size 800x500 with 1 Axes>"
      ]
     },
     "metadata": {},
     "output_type": "display_data"
    }
   ],
   "source": [
    "import numpy as np\n",
    "import matplotlib.pyplot as plt\n",
    "\n",
    "# Part C.1: Monte Carlo pi estimate\n",
    "\n",
    "def estimate_pi(N, seed=None, return_history=False, history_step=1):\n",
    "    if seed is not None:\n",
    "        np.random.seed(seed)\n",
    "    x = np.random.uniform(-1, 1, size=N)\n",
    "    y = np.random.uniform(-1, 1, size=N)\n",
    "    inside = (x**2 + y**2) <= 1.0\n",
    "    count_inside = np.sum(inside)\n",
    "    pi_est = 4.0 * count_inside / N\n",
    "    \n",
    "    if return_history:\n",
    "        cumsum_inside = np.cumsum(inside)\n",
    "        indices = np.arange(1, N+1)\n",
    "        running_est = 4.0 * cumsum_inside / indices\n",
    "        if history_step <= 1:\n",
    "            history_x = indices\n",
    "            history_est = running_est\n",
    "        else:\n",
    "            history_x = indices[::history_step]\n",
    "            history_est = running_est[::history_step]\n",
    "        return pi_est, history_x, history_est\n",
    "    else:\n",
    "        return pi_est\n",
    "\n",
    "### The function works by generating N random points in the unit square [-1,1]x[-1,1], it generates them by sampling x and y coordinates uniformly from -1 to 1. \n",
    "### It then checks how many of these points fall inside the unit circle (x^2 + y^2 <= 1).\n",
    "### The ratio of points inside the circle to the total number of points, multiplied by 4, gives an estimate of π. \n",
    "### If return_history is True, it also computes and returns the running estimate of π at intervals defined by history_step which is required to plot the convergence.\n",
    "### It also gives the option to choose a seed for the randomizing for reproducibility.\n",
    "\n",
    "# Test run\n",
    "N_demo = 200000\n",
    "pi_est, hist_x, hist_est = estimate_pi(N_demo, seed=42, return_history=True, history_step=10)\n",
    "print(f\"Found estimated π = {pi_est:.6f}, error compared to real π value = {abs(pi_est - np.pi):.6f}\")\n",
    "print(\"\")\n",
    "# Convergence plot\n",
    "plt.figure(figsize=(8, 5))\n",
    "plt.plot(hist_x, hist_est)\n",
    "plt.axhline(np.pi, linestyle='--')\n",
    "plt.xlabel(\"Number of samples (N)\")\n",
    "plt.ylabel(\"Monte Carlo estimate of π\")\n",
    "plt.title(\"Convergence of Monte Carlo π estimate\")\n",
    "plt.grid(True)\n",
    "plt.show()\n",
    "\n",
    "### Simple plot showing how the estimate of π converges to the true value as the number of samples increases with the value of π represented by a dashed line.\n",
    "\n",
    "# Part C.2: Chemistry-inspired Monte Carlo collisions\n",
    "\n",
    "def simulate_collisions(M, threshold, distribution='uniform', dist_params=None, seed=None):\n",
    "    if seed is not None:\n",
    "        np.random.seed(seed)\n",
    "    if dist_params is None:\n",
    "        dist_params = {}\n",
    "    if distribution == 'uniform':\n",
    "        low = dist_params.get('low', 0.0)\n",
    "        high = dist_params.get('high', 2.0)\n",
    "        energies = np.random.uniform(low, high, size=M)\n",
    "        used_params = {'low': low, 'high': high}\n",
    "    elif distribution == 'normal':\n",
    "        loc = dist_params.get('loc', 1.0)\n",
    "        scale = dist_params.get('scale', 0.5)\n",
    "        energies = np.random.normal(loc=loc, scale=scale, size=M)\n",
    "        energies = np.clip(energies, 0.0, None) # if negative energies\n",
    "        used_params = {'loc': loc, 'scale': scale}\n",
    "    elif distribution == 'exponential':\n",
    "        scale = dist_params.get('scale', 1.0)\n",
    "        energies = np.random.exponential(scale=scale, size=M)\n",
    "        used_params = {'scale': scale}\n",
    "    else:\n",
    "        raise ValueError(\"distribution must be 'uniform', 'normal', or 'exponential'\")\n",
    "    \n",
    "    count_reactive = np.sum(energies >= threshold)\n",
    "    fraction = count_reactive / M\n",
    "    std_err = np.sqrt(fraction * (1 - fraction) / M) if M > 0 else np.nan\n",
    "    z = 1.96\n",
    "    ci_low = max(fraction - z * std_err, 0.0)\n",
    "    ci_high = min(fraction + z * std_err, 1.0)\n",
    "    \n",
    "    return {\n",
    "        'M': M,\n",
    "        'threshold': threshold,\n",
    "        'distribution': distribution,\n",
    "        'dist_params': used_params,\n",
    "        'energies': energies,\n",
    "        'count_reactive': int(count_reactive),\n",
    "        'fraction_reactive': fraction,\n",
    "        'std_error': std_err,\n",
    "        '95ci': (ci_low, ci_high)\n",
    "    }\n",
    "\n",
    "### The function simulates M collision energies based on the specified distribution (uniform, normal, or exponential) and its parameters that can be specified as well.\n",
    "### It counts how many of these energies exceed a given threshold, calculates the fraction of reactive collisions, \n",
    "### and computes the standard error and a 95% confidence interval for this fraction.\n",
    "### The function returns a dictionary containing all relevant information about the simulation.\n",
    "### It also gives the option to choose a seed for the randomizing for reproducibility.\n",
    "\n",
    "# Test runs for each distribution\n",
    "result_norm = simulate_collisions(20000, threshold=1.2, distribution='normal', dist_params={'loc':1.0, 'scale':0.6}, seed=24)\n",
    "result_uni = simulate_collisions(20000, threshold=1.2, distribution='uniform', dist_params=None, seed=24)\n",
    "result_exp= simulate_collisions(20000, threshold=1.2, distribution='exponential', dist_params=None, seed=24)\n",
    "\n",
    "print(f\"The reaction probability for {result_norm['distribution']} distribution is {result_norm['fraction_reactive']:.4f} ± {result_norm['std_error']:.4f} with a 95% confidence interval {result_norm['95ci']} with {result_norm['count_reactive']} reactive collisions out of {result_norm['M']} total collisions. The distribution parameters were {result_norm['dist_params']}\")\n",
    "print(\"\")\n",
    "print(f\"The reaction probability for {result_uni['distribution']} distribution is {result_uni['fraction_reactive']:.4f} ± {result_uni['std_error']:.4f} with a 95% confidence interval {result_uni['95ci']} with {result_uni['count_reactive']} reactive collisions out of {result_uni['M']} total collisions. The distribution parameters were {result_uni['dist_params']}\")\n",
    "print(\"\")\n",
    "print(f\"The reaction probability for {result_exp['distribution']} distribution is {result_exp['fraction_reactive']:.4f} ± {result_exp['std_error']:.4f} with a 95% confidence interval {result_exp['95ci']} with {result_exp['count_reactive']} reactive collisions out of {result_exp['M']} total collisions. The distribution parameters were {result_exp['dist_params']}\")\n",
    "\n",
    "\n",
    "### Plots for each distribution to get and idea of the energy distributions and the threshold\n",
    "\n",
    "plt.figure(figsize=(8, 5))\n",
    "plt.hist(result_norm['energies'], bins=60)\n",
    "plt.axvline(result_norm['threshold'], linestyle='--')\n",
    "plt.xlabel(\"Collision energy\")\n",
    "plt.ylabel(\"Counts\")\n",
    "plt.title(\"Histogram of simulated collision energies for normal distribution\")\n",
    "plt.grid(True)\n",
    "plt.show()\n",
    "\n",
    "plt.figure(figsize=(8, 5))\n",
    "plt.hist(result_uni['energies'], bins=60)\n",
    "plt.axvline(result_uni['threshold'], linestyle='--')\n",
    "plt.xlabel(\"Collision energy\")\n",
    "plt.ylabel(\"Counts\")\n",
    "plt.title(\"Histogram of simulated collision energies for uniform distribution\")\n",
    "plt.grid(True)\n",
    "plt.show()\n",
    "\n",
    "plt.figure(figsize=(8, 5))\n",
    "plt.hist(result_exp['energies'], bins=60)\n",
    "plt.axvline(result_exp['threshold'], linestyle='--')\n",
    "plt.xlabel(\"Collision energy\")\n",
    "plt.ylabel(\"Counts\")\n",
    "plt.title(\"Histogram of simulated collision energies for exponential distribution\")\n",
    "plt.grid(True)\n",
    "plt.show()\n",
    "\n"
   ]
  }
 ],
 "metadata": {
  "kernelspec": {
   "display_name": "Python 3 (ipykernel)",
   "language": "python",
   "name": "python3"
  },
  "language_info": {
   "codemirror_mode": {
    "name": "ipython",
    "version": 3
   },
   "file_extension": ".py",
   "mimetype": "text/x-python",
   "name": "python",
   "nbconvert_exporter": "python",
   "pygments_lexer": "ipython3",
   "version": "3.10.13"
  }
 },
 "nbformat": 4,
 "nbformat_minor": 5
}
