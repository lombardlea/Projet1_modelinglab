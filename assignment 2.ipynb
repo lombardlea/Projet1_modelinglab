{
 "cells": [
  {
   "cell_type": "markdown",
   "id": "e151d70e-eb8e-47a1-826c-ead3d315cbf0",
   "metadata": {},
   "source": [
    "## Assignment 2 - Adsorption of CO2 and CH4"
   ]
  },
  {
   "cell_type": "markdown",
   "id": "82f73338-164f-4a75-9672-b0468e2743e4",
   "metadata": {},
   "source": [
    "David Müller, Léa Lombard, Elisa Lemaire "
   ]
  },
  {
   "cell_type": "code",
   "execution_count": 2,
   "id": "de7400b0-7089-4618-86c4-28d2222e2773",
   "metadata": {
    "tags": []
   },
   "outputs": [
    {
     "name": "stdout",
     "output_type": "stream",
     "text": [
      "Collecting pyiast\n",
      "  Downloading pyiast-1.4.3.tar.gz (10 kB)\n",
      "  Preparing metadata (setup.py) ... \u001b[?25ldone\n",
      "\u001b[?25hRequirement already satisfied: numpy in /Users/elisalemaire/anaconda3/lib/python3.11/site-packages (from pyiast) (1.24.3)\n",
      "Requirement already satisfied: scipy in /Users/elisalemaire/anaconda3/lib/python3.11/site-packages (from pyiast) (1.11.1)\n",
      "Requirement already satisfied: pandas>=0.24.0 in /Users/elisalemaire/anaconda3/lib/python3.11/site-packages (from pyiast) (2.0.3)\n",
      "Requirement already satisfied: matplotlib in /Users/elisalemaire/anaconda3/lib/python3.11/site-packages (from pyiast) (3.7.2)\n",
      "Requirement already satisfied: python-dateutil>=2.8.2 in /Users/elisalemaire/anaconda3/lib/python3.11/site-packages (from pandas>=0.24.0->pyiast) (2.8.2)\n",
      "Requirement already satisfied: pytz>=2020.1 in /Users/elisalemaire/anaconda3/lib/python3.11/site-packages (from pandas>=0.24.0->pyiast) (2023.3.post1)\n",
      "Requirement already satisfied: tzdata>=2022.1 in /Users/elisalemaire/anaconda3/lib/python3.11/site-packages (from pandas>=0.24.0->pyiast) (2023.3)\n",
      "Requirement already satisfied: contourpy>=1.0.1 in /Users/elisalemaire/anaconda3/lib/python3.11/site-packages (from matplotlib->pyiast) (1.0.5)\n",
      "Requirement already satisfied: cycler>=0.10 in /Users/elisalemaire/anaconda3/lib/python3.11/site-packages (from matplotlib->pyiast) (0.11.0)\n",
      "Requirement already satisfied: fonttools>=4.22.0 in /Users/elisalemaire/anaconda3/lib/python3.11/site-packages (from matplotlib->pyiast) (4.25.0)\n",
      "Requirement already satisfied: kiwisolver>=1.0.1 in /Users/elisalemaire/anaconda3/lib/python3.11/site-packages (from matplotlib->pyiast) (1.4.4)\n",
      "Requirement already satisfied: packaging>=20.0 in /Users/elisalemaire/anaconda3/lib/python3.11/site-packages (from matplotlib->pyiast) (23.1)\n",
      "Requirement already satisfied: pillow>=6.2.0 in /Users/elisalemaire/anaconda3/lib/python3.11/site-packages (from matplotlib->pyiast) (10.2.0)\n",
      "Requirement already satisfied: pyparsing<3.1,>=2.3.1 in /Users/elisalemaire/anaconda3/lib/python3.11/site-packages (from matplotlib->pyiast) (3.0.9)\n",
      "Requirement already satisfied: six>=1.5 in /Users/elisalemaire/anaconda3/lib/python3.11/site-packages (from python-dateutil>=2.8.2->pandas>=0.24.0->pyiast) (1.16.0)\n",
      "Building wheels for collected packages: pyiast\n",
      "  Building wheel for pyiast (setup.py) ... \u001b[?25ldone\n",
      "\u001b[?25h  Created wheel for pyiast: filename=pyiast-1.4.3-py3-none-any.whl size=10965 sha256=6dd197beae32fc3ec15c152785f88318aa37b68c3bab9da493cba033ce12feba\n",
      "  Stored in directory: /Users/elisalemaire/Library/Caches/pip/wheels/d4/b6/56/df0f8f3e89530d13a28297052e8fa41532450ed4afcda348f0\n",
      "Successfully built pyiast\n",
      "Installing collected packages: pyiast\n",
      "Successfully installed pyiast-1.4.3\n",
      "Note: you may need to restart the kernel to use updated packages.\n"
     ]
    }
   ],
   "source": [
    "pip install pyiast"
   ]
  },
  {
   "cell_type": "code",
   "execution_count": 7,
   "id": "d9e00c5a-5b12-4e6c-8793-3bad4c3fbb06",
   "metadata": {},
   "outputs": [],
   "source": [
    "import pyiast\n",
    "import pandas as pd\n",
    "df_ch4 = pd.read_csv(\"CH4.csv\")\n",
    "df_co2 = pd.read_csv(\"CO22.csv\")"
   ]
  },
  {
   "cell_type": "code",
   "execution_count": 9,
   "id": "23885db1-a9fd-43d0-834e-ceed2b9dd6a5",
   "metadata": {
    "tags": []
   },
   "outputs": [
    {
     "data": {
      "text/html": [
       "<div>\n",
       "<style scoped>\n",
       "    .dataframe tbody tr th:only-of-type {\n",
       "        vertical-align: middle;\n",
       "    }\n",
       "\n",
       "    .dataframe tbody tr th {\n",
       "        vertical-align: top;\n",
       "    }\n",
       "\n",
       "    .dataframe thead th {\n",
       "        text-align: right;\n",
       "    }\n",
       "</style>\n",
       "<table border=\"1\" class=\"dataframe\">\n",
       "  <thead>\n",
       "    <tr style=\"text-align: right;\">\n",
       "      <th></th>\n",
       "      <th>Key</th>\n",
       "      <th>Value</th>\n",
       "    </tr>\n",
       "  </thead>\n",
       "  <tbody>\n",
       "    <tr>\n",
       "      <th>0</th>\n",
       "      <td>Density</td>\n",
       "      <td>0.576983</td>\n",
       "    </tr>\n",
       "    <tr>\n",
       "      <th>1</th>\n",
       "      <td>Density_unit</td>\n",
       "      <td>g/cm^3</td>\n",
       "    </tr>\n",
       "    <tr>\n",
       "      <th>2</th>\n",
       "      <td>Estimated_saturation_loading</td>\n",
       "      <td>33.871344</td>\n",
       "    </tr>\n",
       "    <tr>\n",
       "      <th>3</th>\n",
       "      <td>Estimated_saturation_loading_unit</td>\n",
       "      <td>mol/kg</td>\n",
       "    </tr>\n",
       "    <tr>\n",
       "      <th>4</th>\n",
       "      <td>Input_block</td>\n",
       "      <td>[1.865, 100]</td>\n",
       "    </tr>\n",
       "  </tbody>\n",
       "</table>\n",
       "</div>"
      ],
      "text/plain": [
       "                                 Key         Value\n",
       "0                            Density      0.576983\n",
       "1                       Density_unit        g/cm^3\n",
       "2       Estimated_saturation_loading     33.871344\n",
       "3  Estimated_saturation_loading_unit        mol/kg\n",
       "4                        Input_block  [1.865, 100]"
      ]
     },
     "execution_count": 9,
     "metadata": {},
     "output_type": "execute_result"
    }
   ],
   "source": [
    "df_ch4.head()"
   ]
  },
  {
   "cell_type": "code",
   "execution_count": 10,
   "id": "42a5dc1a-f635-450e-8122-884ce8917471",
   "metadata": {
    "tags": []
   },
   "outputs": [
    {
     "data": {
      "text/html": [
       "<div>\n",
       "<style scoped>\n",
       "    .dataframe tbody tr th:only-of-type {\n",
       "        vertical-align: middle;\n",
       "    }\n",
       "\n",
       "    .dataframe tbody tr th {\n",
       "        vertical-align: top;\n",
       "    }\n",
       "\n",
       "    .dataframe thead th {\n",
       "        text-align: right;\n",
       "    }\n",
       "</style>\n",
       "<table border=\"1\" class=\"dataframe\">\n",
       "  <thead>\n",
       "    <tr style=\"text-align: right;\">\n",
       "      <th></th>\n",
       "      <th>Key</th>\n",
       "      <th>Value</th>\n",
       "    </tr>\n",
       "  </thead>\n",
       "  <tbody>\n",
       "    <tr>\n",
       "      <th>0</th>\n",
       "      <td>Density</td>\n",
       "      <td>0.576983</td>\n",
       "    </tr>\n",
       "    <tr>\n",
       "      <th>1</th>\n",
       "      <td>Density_unit</td>\n",
       "      <td>g/cm^3</td>\n",
       "    </tr>\n",
       "    <tr>\n",
       "      <th>2</th>\n",
       "      <td>Estimated_saturation_loading</td>\n",
       "      <td>26.78196</td>\n",
       "    </tr>\n",
       "    <tr>\n",
       "      <th>3</th>\n",
       "      <td>Estimated_saturation_loading_unit</td>\n",
       "      <td>mol/kg</td>\n",
       "    </tr>\n",
       "    <tr>\n",
       "      <th>4</th>\n",
       "      <td>Input_block</td>\n",
       "      <td>[1.525, 100]</td>\n",
       "    </tr>\n",
       "  </tbody>\n",
       "</table>\n",
       "</div>"
      ],
      "text/plain": [
       "                                 Key         Value\n",
       "0                            Density      0.576983\n",
       "1                       Density_unit        g/cm^3\n",
       "2       Estimated_saturation_loading      26.78196\n",
       "3  Estimated_saturation_loading_unit        mol/kg\n",
       "4                        Input_block  [1.525, 100]"
      ]
     },
     "execution_count": 10,
     "metadata": {},
     "output_type": "execute_result"
    }
   ],
   "source": [
    "df_co2.head()"
   ]
  },
  {
   "cell_type": "code",
   "execution_count": 6,
   "id": "0d863625-ef85-4d58-88ef-11beca118505",
   "metadata": {
    "tags": []
   },
   "outputs": [
    {
     "ename": "KeyError",
     "evalue": "'Pressure(bar)'",
     "output_type": "error",
     "traceback": [
      "\u001b[0;31m---------------------------------------------------------------------------\u001b[0m",
      "\u001b[0;31mKeyError\u001b[0m                                  Traceback (most recent call last)",
      "File \u001b[0;32m~/anaconda3/lib/python3.11/site-packages/pandas/core/indexes/base.py:3653\u001b[0m, in \u001b[0;36mIndex.get_loc\u001b[0;34m(self, key)\u001b[0m\n\u001b[1;32m   3652\u001b[0m \u001b[38;5;28;01mtry\u001b[39;00m:\n\u001b[0;32m-> 3653\u001b[0m     \u001b[38;5;28;01mreturn\u001b[39;00m \u001b[38;5;28mself\u001b[39m\u001b[38;5;241m.\u001b[39m_engine\u001b[38;5;241m.\u001b[39mget_loc(casted_key)\n\u001b[1;32m   3654\u001b[0m \u001b[38;5;28;01mexcept\u001b[39;00m \u001b[38;5;167;01mKeyError\u001b[39;00m \u001b[38;5;28;01mas\u001b[39;00m err:\n",
      "File \u001b[0;32m~/anaconda3/lib/python3.11/site-packages/pandas/_libs/index.pyx:147\u001b[0m, in \u001b[0;36mpandas._libs.index.IndexEngine.get_loc\u001b[0;34m()\u001b[0m\n",
      "File \u001b[0;32m~/anaconda3/lib/python3.11/site-packages/pandas/_libs/index.pyx:176\u001b[0m, in \u001b[0;36mpandas._libs.index.IndexEngine.get_loc\u001b[0;34m()\u001b[0m\n",
      "File \u001b[0;32mpandas/_libs/hashtable_class_helper.pxi:7080\u001b[0m, in \u001b[0;36mpandas._libs.hashtable.PyObjectHashTable.get_item\u001b[0;34m()\u001b[0m\n",
      "File \u001b[0;32mpandas/_libs/hashtable_class_helper.pxi:7088\u001b[0m, in \u001b[0;36mpandas._libs.hashtable.PyObjectHashTable.get_item\u001b[0;34m()\u001b[0m\n",
      "\u001b[0;31mKeyError\u001b[0m: 'Pressure(bar)'",
      "\nThe above exception was the direct cause of the following exception:\n",
      "\u001b[0;31mKeyError\u001b[0m                                  Traceback (most recent call last)",
      "Cell \u001b[0;32mIn[6], line 1\u001b[0m\n\u001b[0;32m----> 1\u001b[0m ch4_isotherm \u001b[38;5;241m=\u001b[39m pyiast\u001b[38;5;241m.\u001b[39mInterpolatorIsotherm(df_ch4,\n\u001b[1;32m      2\u001b[0m                                     loading_key\u001b[38;5;241m=\u001b[39m\u001b[38;5;124m\"\u001b[39m\u001b[38;5;124mLoading(mmol/g)\u001b[39m\u001b[38;5;124m\"\u001b[39m,\n\u001b[1;32m      3\u001b[0m                                     pressure_key\u001b[38;5;241m=\u001b[39m\u001b[38;5;124m\"\u001b[39m\u001b[38;5;124mPressure(bar)\u001b[39m\u001b[38;5;124m\"\u001b[39m)\n\u001b[1;32m      4\u001b[0m ch4_isotherm \u001b[38;5;241m=\u001b[39m pyiast\u001b[38;5;241m.\u001b[39mInterpolatorIsotherm(df_ch4,\n\u001b[1;32m      5\u001b[0m                                     loading_key\u001b[38;5;241m=\u001b[39m\u001b[38;5;124m\"\u001b[39m\u001b[38;5;124mLoading(mmol/g)\u001b[39m\u001b[38;5;124m\"\u001b[39m,\n\u001b[1;32m      6\u001b[0m                                     pressure_key\u001b[38;5;241m=\u001b[39m\u001b[38;5;124m\"\u001b[39m\u001b[38;5;124mPressure(bar)\u001b[39m\u001b[38;5;124m\"\u001b[39m,\n\u001b[1;32m      7\u001b[0m                                     fill_value\u001b[38;5;241m=\u001b[39mdf_ch4[\u001b[38;5;124m'\u001b[39m\u001b[38;5;124mLoading(mmol/g)\u001b[39m\u001b[38;5;124m'\u001b[39m]\u001b[38;5;241m.\u001b[39mmax())\n\u001b[1;32m      8\u001b[0m ch4_isotherm\u001b[38;5;241m.\u001b[39mloading(\u001b[38;5;241m500.0\u001b[39m)\n",
      "File \u001b[0;32m~/anaconda3/lib/python3.11/site-packages/pyiast/isotherms.py:429\u001b[0m, in \u001b[0;36mInterpolatorIsotherm.__init__\u001b[0;34m(self, df, loading_key, pressure_key, fill_value)\u001b[0m\n\u001b[1;32m    407\u001b[0m \u001b[38;5;250m\u001b[39m\u001b[38;5;124;03m\"\"\"\u001b[39;00m\n\u001b[1;32m    408\u001b[0m \u001b[38;5;124;03mInstantiation. InterpolatorIsotherm is instantiated by passing it the\u001b[39;00m\n\u001b[1;32m    409\u001b[0m \u001b[38;5;124;03mpure-component adsorption isotherm data in the form of a Pandas\u001b[39;00m\n\u001b[0;32m   (...)\u001b[0m\n\u001b[1;32m    425\u001b[0m \u001b[38;5;124;03m:rtype: InterpolatorIsotherm\u001b[39;00m\n\u001b[1;32m    426\u001b[0m \u001b[38;5;124;03m\"\"\"\u001b[39;00m\n\u001b[1;32m    427\u001b[0m \u001b[38;5;66;03m# if pressure = 0 not in data frame, add it for interpolation between\u001b[39;00m\n\u001b[1;32m    428\u001b[0m \u001b[38;5;66;03m#   p = 0 and the lowest, nonzero pressure point.\u001b[39;00m\n\u001b[0;32m--> 429\u001b[0m \u001b[38;5;28;01mif\u001b[39;00m \u001b[38;5;241m0.0\u001b[39m \u001b[38;5;129;01mnot\u001b[39;00m \u001b[38;5;129;01min\u001b[39;00m df[pressure_key]\u001b[38;5;241m.\u001b[39mvalues:\n\u001b[1;32m    430\u001b[0m     df \u001b[38;5;241m=\u001b[39m pd\u001b[38;5;241m.\u001b[39mconcat([\n\u001b[1;32m    431\u001b[0m         pd\u001b[38;5;241m.\u001b[39mDataFrame({\n\u001b[1;32m    432\u001b[0m             pressure_key: \u001b[38;5;241m0.0\u001b[39m,\n\u001b[1;32m    433\u001b[0m             loading_key: \u001b[38;5;241m0.0\u001b[39m\n\u001b[1;32m    434\u001b[0m         }, index\u001b[38;5;241m=\u001b[39m[\u001b[38;5;241m0\u001b[39m]), df\n\u001b[1;32m    435\u001b[0m     ])\n\u001b[1;32m    437\u001b[0m \u001b[38;5;66;03m# store isotherm data in self\u001b[39;00m\n\u001b[1;32m    438\u001b[0m \u001b[38;5;66;03m#: Pandas DataFrame on which isotherm was fit\u001b[39;00m\n",
      "File \u001b[0;32m~/anaconda3/lib/python3.11/site-packages/pandas/core/frame.py:3761\u001b[0m, in \u001b[0;36mDataFrame.__getitem__\u001b[0;34m(self, key)\u001b[0m\n\u001b[1;32m   3759\u001b[0m \u001b[38;5;28;01mif\u001b[39;00m \u001b[38;5;28mself\u001b[39m\u001b[38;5;241m.\u001b[39mcolumns\u001b[38;5;241m.\u001b[39mnlevels \u001b[38;5;241m>\u001b[39m \u001b[38;5;241m1\u001b[39m:\n\u001b[1;32m   3760\u001b[0m     \u001b[38;5;28;01mreturn\u001b[39;00m \u001b[38;5;28mself\u001b[39m\u001b[38;5;241m.\u001b[39m_getitem_multilevel(key)\n\u001b[0;32m-> 3761\u001b[0m indexer \u001b[38;5;241m=\u001b[39m \u001b[38;5;28mself\u001b[39m\u001b[38;5;241m.\u001b[39mcolumns\u001b[38;5;241m.\u001b[39mget_loc(key)\n\u001b[1;32m   3762\u001b[0m \u001b[38;5;28;01mif\u001b[39;00m is_integer(indexer):\n\u001b[1;32m   3763\u001b[0m     indexer \u001b[38;5;241m=\u001b[39m [indexer]\n",
      "File \u001b[0;32m~/anaconda3/lib/python3.11/site-packages/pandas/core/indexes/base.py:3655\u001b[0m, in \u001b[0;36mIndex.get_loc\u001b[0;34m(self, key)\u001b[0m\n\u001b[1;32m   3653\u001b[0m     \u001b[38;5;28;01mreturn\u001b[39;00m \u001b[38;5;28mself\u001b[39m\u001b[38;5;241m.\u001b[39m_engine\u001b[38;5;241m.\u001b[39mget_loc(casted_key)\n\u001b[1;32m   3654\u001b[0m \u001b[38;5;28;01mexcept\u001b[39;00m \u001b[38;5;167;01mKeyError\u001b[39;00m \u001b[38;5;28;01mas\u001b[39;00m err:\n\u001b[0;32m-> 3655\u001b[0m     \u001b[38;5;28;01mraise\u001b[39;00m \u001b[38;5;167;01mKeyError\u001b[39;00m(key) \u001b[38;5;28;01mfrom\u001b[39;00m \u001b[38;5;21;01merr\u001b[39;00m\n\u001b[1;32m   3656\u001b[0m \u001b[38;5;28;01mexcept\u001b[39;00m \u001b[38;5;167;01mTypeError\u001b[39;00m:\n\u001b[1;32m   3657\u001b[0m     \u001b[38;5;66;03m# If we have a listlike key, _check_indexing_error will raise\u001b[39;00m\n\u001b[1;32m   3658\u001b[0m     \u001b[38;5;66;03m#  InvalidIndexError. Otherwise we fall through and re-raise\u001b[39;00m\n\u001b[1;32m   3659\u001b[0m     \u001b[38;5;66;03m#  the TypeError.\u001b[39;00m\n\u001b[1;32m   3660\u001b[0m     \u001b[38;5;28mself\u001b[39m\u001b[38;5;241m.\u001b[39m_check_indexing_error(key)\n",
      "\u001b[0;31mKeyError\u001b[0m: 'Pressure(bar)'"
     ]
    }
   ],
   "source": [
    "ch4_isotherm = pyiast.InterpolatorIsotherm(df_ch4,\n",
    "                                    loading_key=\"Loading(mmol/g)\",\n",
    "                                    pressure_key=\"Pressure(bar)\")\n",
    "ch4_isotherm = pyiast.InterpolatorIsotherm(df_ch4,\n",
    "                                    loading_key=\"Loading(mmol/g)\",\n",
    "                                    pressure_key=\"Pressure(bar)\",\n",
    "                                    fill_value=df_ch4['Loading(mmol/g)'].max())\n",
    "ch4_isotherm.loading(500.0)  # returns 66.739250428032904"
   ]
  },
  {
   "cell_type": "code",
   "execution_count": 14,
   "id": "bb410427-0cc8-4361-95ef-b06d49d7f893",
   "metadata": {
    "tags": []
   },
   "outputs": [
    {
     "ename": "KeyError",
     "evalue": "'loading_absolute_average'",
     "output_type": "error",
     "traceback": [
      "\u001b[0;31m---------------------------------------------------------------------------\u001b[0m",
      "\u001b[0;31mKeyError\u001b[0m                                  Traceback (most recent call last)",
      "File \u001b[0;32m~/anaconda3/lib/python3.11/site-packages/pandas/core/indexes/base.py:3653\u001b[0m, in \u001b[0;36mIndex.get_loc\u001b[0;34m(self, key)\u001b[0m\n\u001b[1;32m   3652\u001b[0m \u001b[38;5;28;01mtry\u001b[39;00m:\n\u001b[0;32m-> 3653\u001b[0m     \u001b[38;5;28;01mreturn\u001b[39;00m \u001b[38;5;28mself\u001b[39m\u001b[38;5;241m.\u001b[39m_engine\u001b[38;5;241m.\u001b[39mget_loc(casted_key)\n\u001b[1;32m   3654\u001b[0m \u001b[38;5;28;01mexcept\u001b[39;00m \u001b[38;5;167;01mKeyError\u001b[39;00m \u001b[38;5;28;01mas\u001b[39;00m err:\n",
      "File \u001b[0;32m~/anaconda3/lib/python3.11/site-packages/pandas/_libs/index.pyx:147\u001b[0m, in \u001b[0;36mpandas._libs.index.IndexEngine.get_loc\u001b[0;34m()\u001b[0m\n",
      "File \u001b[0;32m~/anaconda3/lib/python3.11/site-packages/pandas/_libs/index.pyx:176\u001b[0m, in \u001b[0;36mpandas._libs.index.IndexEngine.get_loc\u001b[0;34m()\u001b[0m\n",
      "File \u001b[0;32mpandas/_libs/hashtable_class_helper.pxi:7080\u001b[0m, in \u001b[0;36mpandas._libs.hashtable.PyObjectHashTable.get_item\u001b[0;34m()\u001b[0m\n",
      "File \u001b[0;32mpandas/_libs/hashtable_class_helper.pxi:7088\u001b[0m, in \u001b[0;36mpandas._libs.hashtable.PyObjectHashTable.get_item\u001b[0;34m()\u001b[0m\n",
      "\u001b[0;31mKeyError\u001b[0m: 'loading_absolute_average'",
      "\nThe above exception was the direct cause of the following exception:\n",
      "\u001b[0;31mKeyError\u001b[0m                                  Traceback (most recent call last)",
      "Cell \u001b[0;32mIn[14], line 13\u001b[0m\n\u001b[1;32m      4\u001b[0m \u001b[38;5;28;01mimport\u001b[39;00m \u001b[38;5;21;01mmatplotlib\u001b[39;00m\u001b[38;5;21;01m.\u001b[39;00m\u001b[38;5;21;01mpyplot\u001b[39;00m \u001b[38;5;28;01mas\u001b[39;00m \u001b[38;5;21;01mplt\u001b[39;00m\n\u001b[1;32m      6\u001b[0m \u001b[38;5;66;03m# -------------------------------\u001b[39;00m\n\u001b[1;32m      7\u001b[0m \u001b[38;5;66;03m# Step 1: Create InterpolatorIsotherm objects\u001b[39;00m\n\u001b[1;32m      8\u001b[0m \u001b[38;5;66;03m# -------------------------------\u001b[39;00m\n\u001b[1;32m      9\u001b[0m ch4_isotherm \u001b[38;5;241m=\u001b[39m pyiast\u001b[38;5;241m.\u001b[39mInterpolatorIsotherm(\n\u001b[1;32m     10\u001b[0m     df_ch4,\n\u001b[1;32m     11\u001b[0m     loading_key\u001b[38;5;241m=\u001b[39m\u001b[38;5;124m\"\u001b[39m\u001b[38;5;124mloading_absolute_average\u001b[39m\u001b[38;5;124m\"\u001b[39m,\n\u001b[1;32m     12\u001b[0m     pressure_key\u001b[38;5;241m=\u001b[39m\u001b[38;5;124m\"\u001b[39m\u001b[38;5;124mpressure\u001b[39m\u001b[38;5;124m\"\u001b[39m,\n\u001b[0;32m---> 13\u001b[0m     fill_value\u001b[38;5;241m=\u001b[39mdf_ch4[\u001b[38;5;124m'\u001b[39m\u001b[38;5;124mloading_absolute_average\u001b[39m\u001b[38;5;124m'\u001b[39m]\u001b[38;5;241m.\u001b[39mmax()  \u001b[38;5;66;03m# for extrapolation\u001b[39;00m\n\u001b[1;32m     14\u001b[0m )\n\u001b[1;32m     16\u001b[0m co2_isotherm \u001b[38;5;241m=\u001b[39m pyiast\u001b[38;5;241m.\u001b[39mInterpolatorIsotherm(\n\u001b[1;32m     17\u001b[0m     df_co2,\n\u001b[1;32m     18\u001b[0m     loading_key\u001b[38;5;241m=\u001b[39m\u001b[38;5;124m\"\u001b[39m\u001b[38;5;124mloading_absolute_average\u001b[39m\u001b[38;5;124m\"\u001b[39m,\n\u001b[1;32m     19\u001b[0m     pressure_key\u001b[38;5;241m=\u001b[39m\u001b[38;5;124m\"\u001b[39m\u001b[38;5;124mpressure\u001b[39m\u001b[38;5;124m\"\u001b[39m,\n\u001b[1;32m     20\u001b[0m     fill_value\u001b[38;5;241m=\u001b[39mdf_co2[\u001b[38;5;124m'\u001b[39m\u001b[38;5;124mloading_absolute_average\u001b[39m\u001b[38;5;124m'\u001b[39m]\u001b[38;5;241m.\u001b[39mmax()  \u001b[38;5;66;03m# for extrapolation\u001b[39;00m\n\u001b[1;32m     21\u001b[0m )\n\u001b[1;32m     23\u001b[0m \u001b[38;5;66;03m# -------------------------------\u001b[39;00m\n\u001b[1;32m     24\u001b[0m \u001b[38;5;66;03m# Step 2: Define binary mixture conditions\u001b[39;00m\n\u001b[1;32m     25\u001b[0m \u001b[38;5;66;03m# -------------------------------\u001b[39;00m\n\u001b[1;32m     26\u001b[0m \u001b[38;5;66;03m# Mole fractions in gas phase\u001b[39;00m\n",
      "File \u001b[0;32m~/anaconda3/lib/python3.11/site-packages/pandas/core/frame.py:3761\u001b[0m, in \u001b[0;36mDataFrame.__getitem__\u001b[0;34m(self, key)\u001b[0m\n\u001b[1;32m   3759\u001b[0m \u001b[38;5;28;01mif\u001b[39;00m \u001b[38;5;28mself\u001b[39m\u001b[38;5;241m.\u001b[39mcolumns\u001b[38;5;241m.\u001b[39mnlevels \u001b[38;5;241m>\u001b[39m \u001b[38;5;241m1\u001b[39m:\n\u001b[1;32m   3760\u001b[0m     \u001b[38;5;28;01mreturn\u001b[39;00m \u001b[38;5;28mself\u001b[39m\u001b[38;5;241m.\u001b[39m_getitem_multilevel(key)\n\u001b[0;32m-> 3761\u001b[0m indexer \u001b[38;5;241m=\u001b[39m \u001b[38;5;28mself\u001b[39m\u001b[38;5;241m.\u001b[39mcolumns\u001b[38;5;241m.\u001b[39mget_loc(key)\n\u001b[1;32m   3762\u001b[0m \u001b[38;5;28;01mif\u001b[39;00m is_integer(indexer):\n\u001b[1;32m   3763\u001b[0m     indexer \u001b[38;5;241m=\u001b[39m [indexer]\n",
      "File \u001b[0;32m~/anaconda3/lib/python3.11/site-packages/pandas/core/indexes/base.py:3655\u001b[0m, in \u001b[0;36mIndex.get_loc\u001b[0;34m(self, key)\u001b[0m\n\u001b[1;32m   3653\u001b[0m     \u001b[38;5;28;01mreturn\u001b[39;00m \u001b[38;5;28mself\u001b[39m\u001b[38;5;241m.\u001b[39m_engine\u001b[38;5;241m.\u001b[39mget_loc(casted_key)\n\u001b[1;32m   3654\u001b[0m \u001b[38;5;28;01mexcept\u001b[39;00m \u001b[38;5;167;01mKeyError\u001b[39;00m \u001b[38;5;28;01mas\u001b[39;00m err:\n\u001b[0;32m-> 3655\u001b[0m     \u001b[38;5;28;01mraise\u001b[39;00m \u001b[38;5;167;01mKeyError\u001b[39;00m(key) \u001b[38;5;28;01mfrom\u001b[39;00m \u001b[38;5;21;01merr\u001b[39;00m\n\u001b[1;32m   3656\u001b[0m \u001b[38;5;28;01mexcept\u001b[39;00m \u001b[38;5;167;01mTypeError\u001b[39;00m:\n\u001b[1;32m   3657\u001b[0m     \u001b[38;5;66;03m# If we have a listlike key, _check_indexing_error will raise\u001b[39;00m\n\u001b[1;32m   3658\u001b[0m     \u001b[38;5;66;03m#  InvalidIndexError. Otherwise we fall through and re-raise\u001b[39;00m\n\u001b[1;32m   3659\u001b[0m     \u001b[38;5;66;03m#  the TypeError.\u001b[39;00m\n\u001b[1;32m   3660\u001b[0m     \u001b[38;5;28mself\u001b[39m\u001b[38;5;241m.\u001b[39m_check_indexing_error(key)\n",
      "\u001b[0;31mKeyError\u001b[0m: 'loading_absolute_average'"
     ]
    }
   ],
   "source": [
    "import numpy as np\n",
    "import pandas as pd\n",
    "import pyiast\n",
    "import matplotlib.pyplot as plt\n",
    "\n",
    "# -------------------------------\n",
    "# Step 1: Create InterpolatorIsotherm objects\n",
    "# -------------------------------\n",
    "ch4_isotherm = pyiast.InterpolatorIsotherm(\n",
    "    df_ch4,\n",
    "    loading_key=\"loading_absolute_average\",\n",
    "    pressure_key=\"pressure\",\n",
    "    fill_value=df_ch4['loading_absolute_average'].max()  # for extrapolation\n",
    ")\n",
    "\n",
    "co2_isotherm = pyiast.InterpolatorIsotherm(\n",
    "    df_co2,\n",
    "    loading_key=\"loading_absolute_average\",\n",
    "    pressure_key=\"pressure\",\n",
    "    fill_value=df_co2['loading_absolute_average'].max()  # for extrapolation\n",
    ")\n",
    "\n",
    "# -------------------------------\n",
    "# Step 2: Define binary mixture conditions\n",
    "# -------------------------------\n",
    "# Mole fractions in gas phase\n",
    "y_ch4 = 0.5\n",
    "y_co2 = 0.5\n",
    "\n",
    "# Total pressure range\n",
    "P_total = np.arange(0.1, 4.0 + 0.01, 0.2)  # 0.1 to 4.0 bar\n",
    "\n",
    "# -------------------------------\n",
    "# Step 3: Use pyIAST to predict mixture loadings\n",
    "# -------------------------------\n",
    "ch4_loadings = []\n",
    "co2_loadings = []\n",
    "\n",
    "for P in P_total:\n",
    "    mixture_loading = pyiast.iast([P * y_ch4, P * y_co2],\n",
    "                                  [ch4_isotherm, co2_isotherm])\n",
    "    ch4_loadings.append(mixture_loading[0])\n",
    "    co2_loadings.append(mixture_loading[1])\n",
    "\n",
    "# -------------------------------\n",
    "# Step 4: Plot results\n",
    "# -------------------------------\n",
    "plt.figure(figsize=(8,5))\n",
    "plt.plot(P_total, ch4_loadings, 'o-', label='CH4')\n",
    "plt.plot(P_total, co2_loadings, 's-', label='CO2')\n",
    "plt.xlabel('Total Pressure (bar)')\n",
    "plt.ylabel('Loading (mmol/g)')\n",
    "plt.title('Binary Mixture Isotherms via Linear Interpolation')\n",
    "plt.legend()\n",
    "plt.grid(True)\n",
    "plt.show()\n"
   ]
  },
  {
   "cell_type": "code",
   "execution_count": null,
   "id": "9a7104d2-339b-4ca1-af1b-9e41bd00a099",
   "metadata": {},
   "outputs": [],
   "source": []
  }
 ],
 "metadata": {
  "kernelspec": {
   "display_name": "Python 3 (ipykernel)",
   "language": "python",
   "name": "python3"
  },
  "language_info": {
   "codemirror_mode": {
    "name": "ipython",
    "version": 3
   },
   "file_extension": ".py",
   "mimetype": "text/x-python",
   "name": "python",
   "nbconvert_exporter": "python",
   "pygments_lexer": "ipython3",
   "version": "3.11.5"
  }
 },
 "nbformat": 4,
 "nbformat_minor": 5
}
